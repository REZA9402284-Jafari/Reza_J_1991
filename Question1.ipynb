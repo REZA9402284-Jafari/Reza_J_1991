{
 "cells": [
  {
   "cell_type": "code",
   "execution_count": 3,
   "id": "6a3af388-ba4c-48af-83fb-d795231bb677",
   "metadata": {},
   "outputs": [
    {
     "name": "stdout",
     "output_type": "stream",
     "text": [
      "The probability of having more than 150 rainy days in the year is approximately 0.7019\n"
     ]
    }
   ],
   "source": [
    "import numpy as np\n",
    "\n",
    "def calculate_seasonal_probabilities():\n",
    "    # Season probabilities (example values for winter, spring, summer, and fall)\n",
    "    winter_prob = 0.6  # 60% chance of rain in winter\n",
    "    spring_prob = 0.4  # 40% chance of rain in spring\n",
    "    summer_prob = 0.2  # 20% chance of rain in summer\n",
    "    fall_prob = 0.5    # 50% chance of rain in fall\n",
    "\n",
    "    # Assign probabilities for each day of the year\n",
    "    p = np.zeros(365)\n",
    "    p[:91] = winter_prob   # Winter (first 91 days)\n",
    "    p[91:182] = spring_prob  # Spring (next 91 days)\n",
    "    p[182:273] = summer_prob  # Summer (next 91 days)\n",
    "    p[273:] = fall_prob     # Fall (remaining days)\n",
    "    \n",
    "    return p\n",
    "\n",
    "def probability_rainy_days(p, n, num_simulations=10000):\n",
    "    \"\"\"\n",
    "    Estimate the probability of having more than 'n' rainy days in a year using Monte Carlo simulation.\n",
    "\n",
    "    Parameters:\n",
    "    - p: List or array of daily rain probabilities (size 365).\n",
    "    - n: Integer, the threshold number of rainy days.\n",
    "    - num_simulations: Number of Monte Carlo trials to run (default 10000).\n",
    "\n",
    "    Returns:\n",
    "    - Float: Estimated probability of having more than 'n' rainy days in the year.\n",
    "    \"\"\"\n",
    "    rainy_days_count = 0\n",
    "    \n",
    "    for _ in range(num_simulations):\n",
    "        # Simulate one year's worth of rainy days based on the probabilities\n",
    "        rainy_days = np.random.binomial(1, p)  # 1 for rain, 0 for no rain\n",
    "        total_rainy_days = np.sum(rainy_days)\n",
    "        \n",
    "        if total_rainy_days > n:\n",
    "            rainy_days_count += 1\n",
    "\n",
    "    # Calculate the fraction of simulations where rainy days exceed 'n'\n",
    "    return rainy_days_count / num_simulations\n",
    "\n",
    "# Example usage\n",
    "p = calculate_seasonal_probabilities()  # Generate seasonal probabilities\n",
    "n = 150  # Threshold number of rainy days\n",
    "prob = probability_rainy_days(p, n)\n",
    "print(f\"The probability of having more than {n} rainy days in the year is approximately {prob:.4f}\")\n"
   ]
  },
  {
   "cell_type": "code",
   "execution_count": null,
   "id": "ebcec4ba-eb43-47be-aa91-034de6ae0e48",
   "metadata": {},
   "outputs": [],
   "source": []
  }
 ],
 "metadata": {
  "kernelspec": {
   "display_name": "Python 3 (ipykernel)",
   "language": "python",
   "name": "python3"
  },
  "language_info": {
   "codemirror_mode": {
    "name": "ipython",
    "version": 3
   },
   "file_extension": ".py",
   "mimetype": "text/x-python",
   "name": "python",
   "nbconvert_exporter": "python",
   "pygments_lexer": "ipython3",
   "version": "3.12.7"
  }
 },
 "nbformat": 4,
 "nbformat_minor": 5
}
