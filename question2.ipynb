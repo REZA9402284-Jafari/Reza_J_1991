{
 "cells": [
  {
   "cell_type": "code",
   "execution_count": 4,
   "id": "8d64ded8-8a28-49a5-ae04-99dcad72d6b2",
   "metadata": {},
   "outputs": [
    {
     "name": "stdout",
     "output_type": "stream",
     "text": [
      "All possible word combinations: [['THEIR'], ['THERE']]\n"
     ]
    }
   ],
   "source": [
    "from typing import List, Dict, Sequence\n",
    "from collections import defaultdict\n",
    "\n",
    "# Example pronunciation dictionary snippet\n",
    "pronunciation_dict = {\n",
    "    \"ABACUS\": [\"AE\", \"B\", \"AH\", \"K\", \"AH\", \"S\"],\n",
    "    \"BOOK\": [\"B\", \"UH\", \"K\"],\n",
    "    \"THEIR\": [\"DH\", \"EH\", \"R\"],\n",
    "    \"THERE\": [\"DH\", \"EH\", \"R\"],\n",
    "    \"TOMATO_1\": [\"T\", \"AH\", \"M\", \"AA\", \"T\", \"OW\"],\n",
    "    \"TOMATO_2\": [\"T\", \"AH\", \"M\", \"EY\", \"T\", \"OW\"]\n",
    "}\n",
    "\n",
    "def preprocess_dictionary(pron_dict: Dict[str, List[str]]) -> Dict[str, List[str]]:\n",
    "    \"\"\"\n",
    "    Preprocesses the pronunciation dictionary into a mapping of phoneme sequences to words.\n",
    "    \"\"\"\n",
    "    phoneme_to_words = defaultdict(list)\n",
    "    for word, phonemes in pron_dict.items():\n",
    "        phoneme_str = ' '.join(phonemes)\n",
    "        phoneme_to_words[phoneme_str].append(word)\n",
    "    return phoneme_to_words\n",
    "\n",
    "def find_word_combinations(phonemes: Sequence[str], phoneme_to_words: Dict[str, List[str]], path: List[str], result: List[List[str]]) -> None:\n",
    "    \"\"\"\n",
    "    Recursive helper function to find all word combinations for a given sequence of phonemes.\n",
    "    \"\"\"\n",
    "    if not phonemes:\n",
    "        result.append(path[:])\n",
    "        return\n",
    "    \n",
    "    for i in range(1, len(phonemes) + 1):\n",
    "        phoneme_slice = ' '.join(phonemes[:i])\n",
    "        if phoneme_slice in phoneme_to_words:\n",
    "            for word in phoneme_to_words[phoneme_slice]:\n",
    "                path.append(word)\n",
    "                find_word_combinations(phonemes[i:], phoneme_to_words, path, result)\n",
    "                path.pop()\n",
    "\n",
    "def find_word_combos_with_pronunciation(phonemes: Sequence[str]) -> Sequence[Sequence[str]]:\n",
    "    \"\"\"\n",
    "    Given a sequence of phonemes, find all possible combinations of words that match the sequence.\n",
    "    \"\"\"\n",
    "    phoneme_to_words = preprocess_dictionary(pronunciation_dict)\n",
    "    result = []\n",
    "    find_word_combinations(phonemes, phoneme_to_words, [], result)\n",
    "    return result\n",
    "\n",
    "# Example usage\n",
    "phonemes = [\"DH\", \"EH\", \"R\"]\n",
    "combinations = find_word_combos_with_pronunciation(phonemes)\n",
    "print(\"All possible word combinations:\", combinations)\n"
   ]
  },
  {
   "cell_type": "code",
   "execution_count": null,
   "id": "9a6a0e35-2a53-4153-a453-5da64b1c92de",
   "metadata": {},
   "outputs": [],
   "source": []
  }
 ],
 "metadata": {
  "kernelspec": {
   "display_name": "Python 3 (ipykernel)",
   "language": "python",
   "name": "python3"
  },
  "language_info": {
   "codemirror_mode": {
    "name": "ipython",
    "version": 3
   },
   "file_extension": ".py",
   "mimetype": "text/x-python",
   "name": "python",
   "nbconvert_exporter": "python",
   "pygments_lexer": "ipython3",
   "version": "3.12.7"
  }
 },
 "nbformat": 4,
 "nbformat_minor": 5
}
